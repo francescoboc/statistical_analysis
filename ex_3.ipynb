{
 "cells": [
  {
   "cell_type": "code",
   "execution_count": 1,
   "metadata": {},
   "outputs": [],
   "source": [
    "# import numpy library for numeric operations and matplotlib for plotting\n",
    "import numpy as np\n",
    "import matplotlib.pyplot as plt\n",
    "\n",
    "# create the data sets as two numpy arrays\n",
    "face = np.array([1, 2, 3, 4, 5, 6])\n",
    "count = np.array([13, 16, 18, 16, 13, 24])"
   ]
  },
  {
   "cell_type": "code",
   "execution_count": 2,
   "metadata": {},
   "outputs": [
    {
     "data": {
      "image/png": "[encoded data removed]",
      "text/plain": [
       "<Figure size 432x288 with 1 Axes>"
      ]
     },
     "metadata": {
      "needs_background": "light"
     },
     "output_type": "display_data"
    }
   ],
   "source": [
    "# bar plot\n",
    "plt.bar(face, count)\n",
    "plt.xlabel('face')\n",
    "plt.ylabel('count')\n",
    "plt.show()"
   ]
  },
  {
   "cell_type": "code",
   "execution_count": 3,
   "metadata": {},
   "outputs": [
    {
     "data": {
      "image/png": "[encoded data removed]",
      "text/plain": [
       "<Figure size 432x288 with 1 Axes>"
      ]
     },
     "metadata": {
      "needs_background": "light"
     },
     "output_type": "display_data"
    }
   ],
   "source": [
    "# frequencies\n",
    "freq = count/np.sum(count)\n",
    "\n",
    "# cumulative frequencies\n",
    "cumul = np.zeros(6)\n",
    "for i in range(6):\n",
    "    cumul[i] = np.sum(freq[0:i])\n",
    "\n",
    "# cumulative diagram\n",
    "plt.figure()\n",
    "plt.step(np.concatenate(([0], face, [7])), np.concatenate(([0], cumul, [1])))\n",
    "plt.xlabel('x')\n",
    "plt.ylabel('Fn(x)')\n",
    "\n",
    "# quartiles\n",
    "plt.vlines(x=2,ymin=0,ymax=cumul[1], ls=':', color='k')\n",
    "plt.vlines(x=4,ymin=0,ymax=cumul[3], ls=':', color='k')\n",
    "plt.vlines(x=5,ymin=0,ymax=cumul[4], ls=':', color='k')\n",
    "\n",
    "plt.hlines(y=1/4,xmin=0,xmax=2, ls=':', color='k')\n",
    "plt.hlines(y=2/4,xmin=0,xmax=4, ls=':', color='k')\n",
    "plt.hlines(y=3/4,xmin=0,xmax=5, ls=':', color='k')\n",
    "plt.show()"
   ]
  },
  {
   "cell_type": "code",
   "execution_count": 4,
   "metadata": {},
   "outputs": [
    {
     "name": "stdout",
     "output_type": "stream",
     "text": [
      "3.72\n"
     ]
    }
   ],
   "source": [
    "# mean\n",
    "mean = np.sum(face*count)/np.sum(count)\n",
    "print(mean)"
   ]
  },
  {
   "cell_type": "code",
   "execution_count": 5,
   "metadata": {},
   "outputs": [
    {
     "name": "stdout",
     "output_type": "stream",
     "text": [
      "1.7412407047617486\n"
     ]
    }
   ],
   "source": [
    "# standard deviation\n",
    "diff = face - mean\n",
    "var = np.sum(count*diff**2)/(np.sum(count)-1)\n",
    "std = np.sqrt(var)\n",
    "print(std)"
   ]
  },
  {
   "cell_type": "code",
   "execution_count": 6,
   "metadata": {},
   "outputs": [
    {
     "data": {
      "image/png": "[encoded data removed]",
      "text/plain": [
       "<Figure size 432x288 with 1 Axes>"
      ]
     },
     "metadata": {
      "needs_background": "light"
     },
     "output_type": "display_data"
    }
   ],
   "source": [
    "# boxplot\n",
    "data = []\n",
    "for i in range(6):\n",
    "    for j in range(count[i]):\n",
    "        data.append(face[i])\n",
    "\n",
    "plt.figure()\n",
    "plt.boxplot(data)\n",
    "plt.xticks([])\n",
    "\n",
    "plt.show()"
   ]
  }
 ],
 "metadata": {
  "anaconda-cloud": {},
  "kernelspec": {
   "display_name": "Python 3",
   "language": "python",
   "name": "python3"
  },
  "language_info": {
   "codemirror_mode": {
    "name": "ipython",
    "version": 3
   },
   "file_extension": ".py",
   "mimetype": "text/x-python",
   "name": "python",
   "nbconvert_exporter": "python",
   "pygments_lexer": "ipython3",
   "version": "3.7.8"
  }
 },
 "nbformat": 4,
 "nbformat_minor": 4
}
