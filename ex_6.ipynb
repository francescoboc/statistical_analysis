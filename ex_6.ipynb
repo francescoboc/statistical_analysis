{
 "cells": [
  {
   "cell_type": "code",
   "execution_count": null,
   "metadata": {},
   "outputs": [],
   "source": [
    "# import numpy library for numeric operations and matplotlib for plotting\n",
    "import numpy as np\n",
    "import matplotlib.pyplot as plt\n",
    "\n",
    "# create the variable data sets as two numpy arrays\n",
    "x = np.array([0, 0, 0, 15, 15, 15, 30, 30, 30, 45, 45, 45, 60, 60, 60, 75, 75, 75])\n",
    "y = np.array([8, 6, 8, 12, 10, 14, 25, 21, 24, 31, 33, 28, 44, 39, 42, 48, 51, 44])\n",
    "\n",
    "# scatter plot\n",
    "plt.scatter(x, y)\n",
    "plt.xlabel('temperature (C)')\n",
    "plt.ylabel('mass (g)')\n",
    "plt.show()"
   ]
  },
  {
   "cell_type": "code",
   "execution_count": null,
   "metadata": {},
   "outputs": [],
   "source": [
    "# means\n",
    "x_mean = np.mean(x)\n",
    "y_mean = np.mean(y)\n",
    "print(x_mean, y_mean)"
   ]
  },
  {
   "cell_type": "code",
   "execution_count": null,
   "metadata": {},
   "outputs": [],
   "source": [
    "# std\n",
    "x_std = np.std(x)\n",
    "y_std = np.std(y)\n",
    "print(x_std, y_std)"
   ]
  },
  {
   "cell_type": "code",
   "execution_count": null,
   "metadata": {},
   "outputs": [],
   "source": [
    "# linear correlation coefficient\n",
    "n = len(x)\n",
    "coeff = (1/n)*np.sum((x-x_mean)*(y-y_mean))/(x_std*y_std)\n",
    "print(coeff)"
   ]
  },
  {
   "cell_type": "code",
   "execution_count": null,
   "metadata": {},
   "outputs": [],
   "source": [
    "# regression line\n",
    "b1 = np.sum((x-x_mean)*(y-y_mean))/np.sum((x-x_mean)**2)\n",
    "b0 = y_mean-b1*x_mean\n",
    "print(b1, b0)"
   ]
  },
  {
   "cell_type": "code",
   "execution_count": null,
   "metadata": {},
   "outputs": [],
   "source": [
    "# plot it over the scatter plot\n",
    "plt.scatter(x, y)\n",
    "plt.xlabel('temperature (C)')\n",
    "plt.ylabel('mass (g)')\n",
    "\n",
    "x_line = range(min(x), max(x))\n",
    "y_line = b0 + b1*x_line\n",
    "plt.plot(x_line, y_line, color='r')\n",
    "\n",
    "# estimate y at x=50\n",
    "y_est = b0 + b1*50\n",
    "print(y_est)\n",
    "\n",
    "# add it on the plot\n",
    "plt.scatter(50, y_est, color='k')\n",
    "plt.show()"
   ]
  }
 ],
 "metadata": {
  "anaconda-cloud": {},
  "kernelspec": {
   "display_name": "Python 3",
   "language": "python",
   "name": "python3"
  },
  "language_info": {
   "codemirror_mode": {
    "name": "ipython",
    "version": 3
   },
   "file_extension": ".py",
   "mimetype": "text/x-python",
   "name": "python",
   "nbconvert_exporter": "python",
   "pygments_lexer": "ipython3",
   "version": "3.7.8"
  }
 },
 "nbformat": 4,
 "nbformat_minor": 4
}
