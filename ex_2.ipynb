{
 "cells": [
  {
   "cell_type": "code",
   "execution_count": null,
   "metadata": {},
   "outputs": [],
   "source": [
    "# import numpy library for numeric operations and matplotlib for plotting\n",
    "import numpy as np\n",
    "import matplotlib.pyplot as plt\n",
    "\n",
    "# create the data sets as two numpy arrays\n",
    "no_aging = np.array([227, 222, 218, 217, 225, 218, 216, 229, 228, 221])\n",
    "aging = np.array([219, 214, 215, 211, 209, 218, 203, 204, 201, 205])\n",
    "\n",
    "# plot two histograms on the same axis\n",
    "plt.hist([no_aging, aging], label = ['no aging', 'aging'])\n",
    "# plt.hist([no_aging, aging], label = ['no aging', 'aging'], bins = [200, 205, 210, 215, 220, 225, 230])\n",
    "# plt.hist([no_aging, aging], label = ['no aging', 'aging'], bins = 10)\n",
    "plt.xlabel('tensile strength (psi)')\n",
    "plt.ylabel('count')\n",
    "plt.legend()\n",
    "\n",
    "plt.show()"
   ]
  },
  {
   "cell_type": "code",
   "execution_count": null,
   "metadata": {},
   "outputs": [],
   "source": [
    "# calculate mean\n",
    "mean_no_aging = np.sum(no_aging)/(10-1)\n",
    "mean_aging = np.sum(aging)/10\n",
    "\n",
    "print(mean_no_aging)\n",
    "print(mean_aging)"
   ]
  },
  {
   "cell_type": "code",
   "execution_count": null,
   "metadata": {},
   "outputs": [],
   "source": [
    "# calculate variance\n",
    "diff_no_aging = no_aging - mean_no_aging\n",
    "var_no_aging = np.sum(diff_no_aging**2)/10\n",
    "\n",
    "print(var_no_aging)\n",
    "\n",
    "diff_aging = aging - mean_aging\n",
    "var_aging = np.sum(diff_aging**2)/10\n",
    "\n",
    "print(var_aging)\n",
    "\n",
    "# alternative method to calculate variance\n",
    "# var_no_aging = 0\n",
    "# var_aging = 0\n",
    "\n",
    "# for i in range(10):\n",
    "#     var_no_aging = var_no_aging + (no_aging[i] - mean_no_aging)**2\n",
    "#     var_aging = var_aging + (aging[i] - mean_aging)**2\n",
    "\n",
    "# var_no_aging = var_no_aging/10\n",
    "# var_aging = var_aging/10"
   ]
  },
  {
   "cell_type": "code",
   "execution_count": null,
   "metadata": {},
   "outputs": [],
   "source": [
    "# calculate standard deviation\n",
    "std_no_aging = np.sqrt(var_no_aging)\n",
    "std_aging = np.sqrt(var_aging)\n",
    "\n",
    "print(std_no_aging)\n",
    "print(std_aging)"
   ]
  }
 ],
 "metadata": {
  "anaconda-cloud": {},
  "kernelspec": {
   "display_name": "Python 3",
   "language": "python",
   "name": "python3"
  },
  "language_info": {
   "codemirror_mode": {
    "name": "ipython",
    "version": 3
   },
   "file_extension": ".py",
   "mimetype": "text/x-python",
   "name": "python",
   "nbconvert_exporter": "python",
   "pygments_lexer": "ipython3",
   "version": "3.7.8"
  }
 },
 "nbformat": 4,
 "nbformat_minor": 4
}
