{
 "cells": [
  {
   "cell_type": "code",
   "execution_count": null,
   "metadata": {},
   "outputs": [],
   "source": [
    "# import numpy library for numeric operations and matplotlib for plotting\n",
    "import numpy as np\n",
    "import matplotlib.pyplot as plt\n",
    "\n",
    "# create the data sets as two numpy arrays\n",
    "speed = np.array([1.28, 1.36, 1.24, 2.47, 1.94, 2.52, 2.67, 1.29, 1.56, 2.66])\n",
    "length = np.array([179, 157, 169, 146, 143, 131, 159, 142, 141, 130])\n",
    "\n",
    "# scatter plot\n",
    "plt.scatter(length, speed)\n",
    "plt.xlabel('length')\n",
    "plt.ylabel('speed')\n",
    "plt.show()"
   ]
  },
  {
   "cell_type": "code",
   "execution_count": null,
   "metadata": {},
   "outputs": [],
   "source": [
    "# means\n",
    "x_mean = np.mean(length)\n",
    "y_mean = np.mean(speed)\n",
    "print(x_mean, y_mean)"
   ]
  },
  {
   "cell_type": "code",
   "execution_count": null,
   "metadata": {},
   "outputs": [],
   "source": [
    "# std\n",
    "x_std = np.std(length)\n",
    "y_std = np.std(speed)\n",
    "print(x_std, y_std)"
   ]
  },
  {
   "cell_type": "code",
   "execution_count": null,
   "metadata": {},
   "outputs": [],
   "source": [
    "# linear correlation coefficient\n",
    "n = len(length)\n",
    "coeff = (1/n)*np.sum((length-x_mean)*(speed-y_mean))/(x_std*y_std)\n",
    "print(coeff)"
   ]
  },
  {
   "cell_type": "code",
   "execution_count": null,
   "metadata": {},
   "outputs": [],
   "source": [
    "# regression line\n",
    "b1 = np.sum((length-x_mean)*(speed-y_mean))/np.sum((length-x_mean)**2)\n",
    "b0 = y_mean-b1*x_mean\n",
    "print(b1, b0)"
   ]
  },
  {
   "cell_type": "code",
   "execution_count": null,
   "metadata": {},
   "outputs": [],
   "source": [
    "# plot it over the scatter plot\n",
    "plt.scatter(length, speed)\n",
    "plt.xlabel('length')\n",
    "plt.ylabel('speed')\n",
    "\n",
    "x_line = range(min(length), max(length))\n",
    "y_line = b0 + b1*x_line\n",
    "plt.plot(x_line, y_line, color='r')\n",
    "\n",
    "plt.show()"
   ]
  }
 ],
 "metadata": {
  "anaconda-cloud": {},
  "kernelspec": {
   "display_name": "Python 3",
   "language": "python",
   "name": "python3"
  },
  "language_info": {
   "codemirror_mode": {
    "name": "ipython",
    "version": 3
   },
   "file_extension": ".py",
   "mimetype": "text/x-python",
   "name": "python",
   "nbconvert_exporter": "python",
   "pygments_lexer": "ipython3",
   "version": "3.7.8"
  }
 },
 "nbformat": 4,
 "nbformat_minor": 4
}
