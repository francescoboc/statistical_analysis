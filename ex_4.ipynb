{
 "cells": [
  {
   "cell_type": "code",
   "execution_count": null,
   "metadata": {},
   "outputs": [],
   "source": [
    "# import numpy library for numeric operations and matplotlib for plotting\n",
    "import numpy as np\n",
    "import matplotlib.pyplot as plt\n",
    "\n",
    "# create the data sets as a numpy array\n",
    "data =  np.array([0.1, 0.8, 0.9, 1.2, 1.6, 1.7, 1.7, 2.2, 2.3, 2.5, 3.1, 3.2, 3.3, 5.2, 5.6, 6.2,\n",
    "7.1, 7.2, 7.4, 7.6, 8.3, 9.5, 10.3, 12.1, 12.9, 13.8, 14.2, 17.2, 18.5, 22.8])\n",
    "\n",
    "# mean\n",
    "mean = np.sum(data)/len(data)\n",
    "\n",
    "# # alternatively\n",
    "# mean = np.mean(data)\n",
    "\n",
    "print(mean)"
   ]
  },
  {
   "cell_type": "code",
   "execution_count": null,
   "metadata": {},
   "outputs": [],
   "source": [
    "# variance and std\n",
    "diff = data - mean\n",
    "var = np.sum(diff**2)/(len(data)-1)\n",
    "std = np.sqrt(var)\n",
    "\n",
    "# median\n",
    "n = len(data)\n",
    "middle = int(n/2)\n",
    "median = (data[middle-1]+data[middle])/2\n",
    "\n",
    "# # alternatively\n",
    "# median = np.median(data)\n",
    "\n",
    "print(var, std, median)"
   ]
  },
  {
   "cell_type": "code",
   "execution_count": null,
   "metadata": {},
   "outputs": [],
   "source": [
    "# quartiles:\n",
    "n1 = int(n/4)\n",
    "n3 = int(n*3/4)\n",
    "Q1 = data[n1]\n",
    "Q3 = data[n3]\n",
    "\n",
    "print(Q1, Q3)"
   ]
  },
  {
   "cell_type": "code",
   "execution_count": null,
   "metadata": {},
   "outputs": [],
   "source": [
    "# plots:\n",
    "plt.hist(data, bins=6)\n",
    "plt.xlabel('duration (minutes)')\n",
    "plt.ylabel('count')\n",
    "\n",
    "plt.figure()\n",
    "plt.boxplot(data)\n",
    "plt.xticks([])\n",
    "\n",
    "plt.show()"
   ]
  }
 ],
 "metadata": {
  "anaconda-cloud": {},
  "kernelspec": {
   "display_name": "Python 3",
   "language": "python",
   "name": "python3"
  },
  "language_info": {
   "codemirror_mode": {
    "name": "ipython",
    "version": 3
   },
   "file_extension": ".py",
   "mimetype": "text/x-python",
   "name": "python",
   "nbconvert_exporter": "python",
   "pygments_lexer": "ipython3",
   "version": "3.7.8"
  }
 },
 "nbformat": 4,
 "nbformat_minor": 4
}
